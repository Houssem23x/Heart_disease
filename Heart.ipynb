{
  "nbformat": 4,
  "nbformat_minor": 0,
  "metadata": {
    "colab": {
      "name": "Heart",
      "provenance": [],
      "toc_visible": true,
      "mount_file_id": "1jqcJiyBmZNiNSZIjpRQuzU3kfEncADas",
      "authorship_tag": "ABX9TyPKQj3yGkW6W5lIdFuRsIfK",
      "include_colab_link": true
    },
    "kernelspec": {
      "name": "python3",
      "display_name": "Python 3"
    }
  },
  "cells": [
    {
      "cell_type": "markdown",
      "metadata": {
        "id": "view-in-github",
        "colab_type": "text"
      },
      "source": [
        "<a href=\"https://colab.research.google.com/github/Houssem23x/Heart_disease/blob/master/Heart.ipynb\" target=\"_parent\"><img src=\"https://colab.research.google.com/assets/colab-badge.svg\" alt=\"Open In Colab\"/></a>"
      ]
    },
    {
      "cell_type": "markdown",
      "metadata": {
        "id": "6Qb7-ozVt_PU",
        "colab_type": "text"
      },
      "source": [
        "# **1. Prepare Problem**"
      ]
    },
    {
      "cell_type": "markdown",
      "metadata": {
        "id": "3ih28YGictqF",
        "colab_type": "text"
      },
      "source": [
        "# *a) Load libraries*\n",
        "\n",
        "\n",
        "\n"
      ]
    },
    {
      "cell_type": "code",
      "metadata": {
        "id": "86DvEoVyOnDI",
        "colab_type": "code",
        "colab": {}
      },
      "source": [
        "import pandas as pd \n",
        "import numpy as np\n",
        "import matplotlib.pyplot as plt\n",
        "import seaborn as sns\n",
        "sns.set_style('whitegrid')"
      ],
      "execution_count": null,
      "outputs": []
    },
    {
      "cell_type": "markdown",
      "metadata": {
        "id": "jJbkpNP5c9sP",
        "colab_type": "text"
      },
      "source": [
        "# *b) Load dataset* \n",
        "\n"
      ]
    },
    {
      "cell_type": "code",
      "metadata": {
        "id": "5H2NbozlOuRQ",
        "colab_type": "code",
        "colab": {
          "base_uri": "https://localhost:8080/",
          "height": 224
        },
        "outputId": "f6ab8214-e871-42e9-d9d5-74f846729d02"
      },
      "source": [
        "opened_file = open('/content/drive/My Drive/Python/heart1.txt')\n",
        "read_file =  opened_file.read()\n",
        "\n",
        "#the values of the data set are after @data in heart1.txt\n",
        "index = read_file.find('@data') \n",
        "data = read_file[index+5:].split()\n",
        "data1 = []\n",
        "\n",
        "for line in data:\n",
        "  data1.append(line.split(','))\n",
        "raw_data = pd.DataFrame(data1)\n",
        "\n",
        "columns = ['age','sex','chest','resting_blood_pressure','serum_cholestoral',\n",
        "           'fasting_blood_sugar','resting_electrocardiographic_results',\n",
        "           'maximum_heart_rate_achieved','exercise_induced_angina','oldpeak',\n",
        "           'slope','number_of_major_vessels','thal','class']\n",
        "raw_data.columns = columns\n",
        "\n",
        "raw_data.head()\n"
      ],
      "execution_count": null,
      "outputs": [
        {
          "output_type": "execute_result",
          "data": {
            "text/html": [
              "<div>\n",
              "<style scoped>\n",
              "    .dataframe tbody tr th:only-of-type {\n",
              "        vertical-align: middle;\n",
              "    }\n",
              "\n",
              "    .dataframe tbody tr th {\n",
              "        vertical-align: top;\n",
              "    }\n",
              "\n",
              "    .dataframe thead th {\n",
              "        text-align: right;\n",
              "    }\n",
              "</style>\n",
              "<table border=\"1\" class=\"dataframe\">\n",
              "  <thead>\n",
              "    <tr style=\"text-align: right;\">\n",
              "      <th></th>\n",
              "      <th>age</th>\n",
              "      <th>sex</th>\n",
              "      <th>chest</th>\n",
              "      <th>resting_blood_pressure</th>\n",
              "      <th>serum_cholestoral</th>\n",
              "      <th>fasting_blood_sugar</th>\n",
              "      <th>resting_electrocardiographic_results</th>\n",
              "      <th>maximum_heart_rate_achieved</th>\n",
              "      <th>exercise_induced_angina</th>\n",
              "      <th>oldpeak</th>\n",
              "      <th>slope</th>\n",
              "      <th>number_of_major_vessels</th>\n",
              "      <th>thal</th>\n",
              "      <th>class</th>\n",
              "    </tr>\n",
              "  </thead>\n",
              "  <tbody>\n",
              "    <tr>\n",
              "      <th>0</th>\n",
              "      <td>70</td>\n",
              "      <td>1</td>\n",
              "      <td>4</td>\n",
              "      <td>130</td>\n",
              "      <td>322</td>\n",
              "      <td>0</td>\n",
              "      <td>2</td>\n",
              "      <td>109</td>\n",
              "      <td>0</td>\n",
              "      <td>2.4</td>\n",
              "      <td>2</td>\n",
              "      <td>3</td>\n",
              "      <td>3</td>\n",
              "      <td>present</td>\n",
              "    </tr>\n",
              "    <tr>\n",
              "      <th>1</th>\n",
              "      <td>67</td>\n",
              "      <td>0</td>\n",
              "      <td>3</td>\n",
              "      <td>115</td>\n",
              "      <td>564</td>\n",
              "      <td>0</td>\n",
              "      <td>2</td>\n",
              "      <td>160</td>\n",
              "      <td>0</td>\n",
              "      <td>1.6</td>\n",
              "      <td>2</td>\n",
              "      <td>0</td>\n",
              "      <td>7</td>\n",
              "      <td>absent</td>\n",
              "    </tr>\n",
              "    <tr>\n",
              "      <th>2</th>\n",
              "      <td>57</td>\n",
              "      <td>1</td>\n",
              "      <td>2</td>\n",
              "      <td>124</td>\n",
              "      <td>261</td>\n",
              "      <td>0</td>\n",
              "      <td>0</td>\n",
              "      <td>141</td>\n",
              "      <td>0</td>\n",
              "      <td>0.3</td>\n",
              "      <td>1</td>\n",
              "      <td>0</td>\n",
              "      <td>7</td>\n",
              "      <td>present</td>\n",
              "    </tr>\n",
              "    <tr>\n",
              "      <th>3</th>\n",
              "      <td>64</td>\n",
              "      <td>1</td>\n",
              "      <td>4</td>\n",
              "      <td>128</td>\n",
              "      <td>263</td>\n",
              "      <td>0</td>\n",
              "      <td>0</td>\n",
              "      <td>105</td>\n",
              "      <td>1</td>\n",
              "      <td>0.2</td>\n",
              "      <td>2</td>\n",
              "      <td>1</td>\n",
              "      <td>7</td>\n",
              "      <td>absent</td>\n",
              "    </tr>\n",
              "    <tr>\n",
              "      <th>4</th>\n",
              "      <td>74</td>\n",
              "      <td>0</td>\n",
              "      <td>2</td>\n",
              "      <td>120</td>\n",
              "      <td>269</td>\n",
              "      <td>0</td>\n",
              "      <td>2</td>\n",
              "      <td>121</td>\n",
              "      <td>1</td>\n",
              "      <td>0.2</td>\n",
              "      <td>1</td>\n",
              "      <td>1</td>\n",
              "      <td>3</td>\n",
              "      <td>absent</td>\n",
              "    </tr>\n",
              "  </tbody>\n",
              "</table>\n",
              "</div>"
            ],
            "text/plain": [
              "  age sex chest  ... number_of_major_vessels thal    class\n",
              "0  70   1     4  ...                       3    3  present\n",
              "1  67   0     3  ...                       0    7   absent\n",
              "2  57   1     2  ...                       0    7  present\n",
              "3  64   1     4  ...                       1    7   absent\n",
              "4  74   0     2  ...                       1    3   absent\n",
              "\n",
              "[5 rows x 14 columns]"
            ]
          },
          "metadata": {
            "tags": []
          },
          "execution_count": 54
        }
      ]
    },
    {
      "cell_type": "code",
      "metadata": {
        "id": "7qbRn0fLfp0s",
        "colab_type": "code",
        "colab": {
          "base_uri": "https://localhost:8080/",
          "height": 272
        },
        "outputId": "0a782715-7509-4d12-b984-b5e78a9fd259"
      },
      "source": [
        "#we need to chnage the type of the attributes \n",
        "raw_data.dtypes"
      ],
      "execution_count": null,
      "outputs": [
        {
          "output_type": "execute_result",
          "data": {
            "text/plain": [
              "age                                     object\n",
              "sex                                     object\n",
              "chest                                   object\n",
              "resting_blood_pressure                  object\n",
              "serum_cholestoral                       object\n",
              "fasting_blood_sugar                     object\n",
              "resting_electrocardiographic_results    object\n",
              "maximum_heart_rate_achieved             object\n",
              "exercise_induced_angina                 object\n",
              "oldpeak                                 object\n",
              "slope                                   object\n",
              "number_of_major_vessels                 object\n",
              "thal                                    object\n",
              "class                                   object\n",
              "dtype: object"
            ]
          },
          "metadata": {
            "tags": []
          },
          "execution_count": 55
        }
      ]
    },
    {
      "cell_type": "code",
      "metadata": {
        "id": "OuffCcLmkqWy",
        "colab_type": "code",
        "colab": {
          "base_uri": "https://localhost:8080/",
          "height": 272
        },
        "outputId": "808de858-1ca5-4b04-b279-3a3b6671889d"
      },
      "source": [
        "int_col = ['age','resting_blood_pressure','serum_cholestoral',\n",
        "           'maximum_heart_rate_achieved',\n",
        "           'number_of_major_vessels']\n",
        "for col in int_col:\n",
        "  raw_data[col] = raw_data[col].astype(int)\n",
        "\n",
        "category_col = ['sex','chest','thal','fasting_blood_sugar',\n",
        "                'exercise_induced_angina','slope',\n",
        "                'resting_electrocardiographic_results']\n",
        "for col in category_col:\n",
        "  raw_data[col] = raw_data[col].astype('category')\n",
        "\n",
        "raw_data['oldpeak'] = raw_data['oldpeak'].astype(float)\n",
        "\n",
        "raw_data.dtypes"
      ],
      "execution_count": null,
      "outputs": [
        {
          "output_type": "execute_result",
          "data": {
            "text/plain": [
              "age                                        int64\n",
              "sex                                     category\n",
              "chest                                   category\n",
              "resting_blood_pressure                     int64\n",
              "serum_cholestoral                          int64\n",
              "fasting_blood_sugar                     category\n",
              "resting_electrocardiographic_results    category\n",
              "maximum_heart_rate_achieved                int64\n",
              "exercise_induced_angina                 category\n",
              "oldpeak                                  float64\n",
              "slope                                   category\n",
              "number_of_major_vessels                    int64\n",
              "thal                                    category\n",
              "class                                     object\n",
              "dtype: object"
            ]
          },
          "metadata": {
            "tags": []
          },
          "execution_count": 56
        }
      ]
    },
    {
      "cell_type": "code",
      "metadata": {
        "id": "3w9k8fL1kqRa",
        "colab_type": "code",
        "colab": {
          "base_uri": "https://localhost:8080/",
          "height": 224
        },
        "outputId": "48050835-108a-4fcc-bd25-4c022d9f0d36"
      },
      "source": [
        "#converting the target attribute to binary \n",
        "raw_data['class'] = raw_data['class'].map({'present':1,'absent':0})\n",
        "raw_data.head()"
      ],
      "execution_count": null,
      "outputs": [
        {
          "output_type": "execute_result",
          "data": {
            "text/html": [
              "<div>\n",
              "<style scoped>\n",
              "    .dataframe tbody tr th:only-of-type {\n",
              "        vertical-align: middle;\n",
              "    }\n",
              "\n",
              "    .dataframe tbody tr th {\n",
              "        vertical-align: top;\n",
              "    }\n",
              "\n",
              "    .dataframe thead th {\n",
              "        text-align: right;\n",
              "    }\n",
              "</style>\n",
              "<table border=\"1\" class=\"dataframe\">\n",
              "  <thead>\n",
              "    <tr style=\"text-align: right;\">\n",
              "      <th></th>\n",
              "      <th>age</th>\n",
              "      <th>sex</th>\n",
              "      <th>chest</th>\n",
              "      <th>resting_blood_pressure</th>\n",
              "      <th>serum_cholestoral</th>\n",
              "      <th>fasting_blood_sugar</th>\n",
              "      <th>resting_electrocardiographic_results</th>\n",
              "      <th>maximum_heart_rate_achieved</th>\n",
              "      <th>exercise_induced_angina</th>\n",
              "      <th>oldpeak</th>\n",
              "      <th>slope</th>\n",
              "      <th>number_of_major_vessels</th>\n",
              "      <th>thal</th>\n",
              "      <th>class</th>\n",
              "    </tr>\n",
              "  </thead>\n",
              "  <tbody>\n",
              "    <tr>\n",
              "      <th>0</th>\n",
              "      <td>70</td>\n",
              "      <td>1</td>\n",
              "      <td>4</td>\n",
              "      <td>130</td>\n",
              "      <td>322</td>\n",
              "      <td>0</td>\n",
              "      <td>2</td>\n",
              "      <td>109</td>\n",
              "      <td>0</td>\n",
              "      <td>2.4</td>\n",
              "      <td>2</td>\n",
              "      <td>3</td>\n",
              "      <td>3</td>\n",
              "      <td>1</td>\n",
              "    </tr>\n",
              "    <tr>\n",
              "      <th>1</th>\n",
              "      <td>67</td>\n",
              "      <td>0</td>\n",
              "      <td>3</td>\n",
              "      <td>115</td>\n",
              "      <td>564</td>\n",
              "      <td>0</td>\n",
              "      <td>2</td>\n",
              "      <td>160</td>\n",
              "      <td>0</td>\n",
              "      <td>1.6</td>\n",
              "      <td>2</td>\n",
              "      <td>0</td>\n",
              "      <td>7</td>\n",
              "      <td>0</td>\n",
              "    </tr>\n",
              "    <tr>\n",
              "      <th>2</th>\n",
              "      <td>57</td>\n",
              "      <td>1</td>\n",
              "      <td>2</td>\n",
              "      <td>124</td>\n",
              "      <td>261</td>\n",
              "      <td>0</td>\n",
              "      <td>0</td>\n",
              "      <td>141</td>\n",
              "      <td>0</td>\n",
              "      <td>0.3</td>\n",
              "      <td>1</td>\n",
              "      <td>0</td>\n",
              "      <td>7</td>\n",
              "      <td>1</td>\n",
              "    </tr>\n",
              "    <tr>\n",
              "      <th>3</th>\n",
              "      <td>64</td>\n",
              "      <td>1</td>\n",
              "      <td>4</td>\n",
              "      <td>128</td>\n",
              "      <td>263</td>\n",
              "      <td>0</td>\n",
              "      <td>0</td>\n",
              "      <td>105</td>\n",
              "      <td>1</td>\n",
              "      <td>0.2</td>\n",
              "      <td>2</td>\n",
              "      <td>1</td>\n",
              "      <td>7</td>\n",
              "      <td>0</td>\n",
              "    </tr>\n",
              "    <tr>\n",
              "      <th>4</th>\n",
              "      <td>74</td>\n",
              "      <td>0</td>\n",
              "      <td>2</td>\n",
              "      <td>120</td>\n",
              "      <td>269</td>\n",
              "      <td>0</td>\n",
              "      <td>2</td>\n",
              "      <td>121</td>\n",
              "      <td>1</td>\n",
              "      <td>0.2</td>\n",
              "      <td>1</td>\n",
              "      <td>1</td>\n",
              "      <td>3</td>\n",
              "      <td>0</td>\n",
              "    </tr>\n",
              "  </tbody>\n",
              "</table>\n",
              "</div>"
            ],
            "text/plain": [
              "   age sex chest  ...  number_of_major_vessels  thal class\n",
              "0   70   1     4  ...                        3     3     1\n",
              "1   67   0     3  ...                        0     7     0\n",
              "2   57   1     2  ...                        0     7     1\n",
              "3   64   1     4  ...                        1     7     0\n",
              "4   74   0     2  ...                        1     3     0\n",
              "\n",
              "[5 rows x 14 columns]"
            ]
          },
          "metadata": {
            "tags": []
          },
          "execution_count": 57
        }
      ]
    },
    {
      "cell_type": "code",
      "metadata": {
        "id": "WWLiuolckqN6",
        "colab_type": "code",
        "colab": {}
      },
      "source": [
        "categorical_features = category_col\n",
        "numerical_features = int_col + ['oldpeak']"
      ],
      "execution_count": null,
      "outputs": []
    },
    {
      "cell_type": "markdown",
      "metadata": {
        "id": "ImnuGw5muX8o",
        "colab_type": "text"
      },
      "source": [
        "# **2. Summarize Data**"
      ]
    },
    {
      "cell_type": "markdown",
      "metadata": {
        "id": "EHLKenC1uu9z",
        "colab_type": "text"
      },
      "source": [
        "# *a) Descriptive statistics*\n"
      ]
    },
    {
      "cell_type": "code",
      "metadata": {
        "id": "HZLr5qpFkqLL",
        "colab_type": "code",
        "colab": {
          "base_uri": "https://localhost:8080/",
          "height": 297
        },
        "outputId": "adea7238-2dd8-427e-c1c5-754dcc01d0fa"
      },
      "source": [
        "pd.set_option('precision',2)\n",
        "raw_data.describe()\n"
      ],
      "execution_count": null,
      "outputs": [
        {
          "output_type": "execute_result",
          "data": {
            "text/html": [
              "<div>\n",
              "<style scoped>\n",
              "    .dataframe tbody tr th:only-of-type {\n",
              "        vertical-align: middle;\n",
              "    }\n",
              "\n",
              "    .dataframe tbody tr th {\n",
              "        vertical-align: top;\n",
              "    }\n",
              "\n",
              "    .dataframe thead th {\n",
              "        text-align: right;\n",
              "    }\n",
              "</style>\n",
              "<table border=\"1\" class=\"dataframe\">\n",
              "  <thead>\n",
              "    <tr style=\"text-align: right;\">\n",
              "      <th></th>\n",
              "      <th>age</th>\n",
              "      <th>resting_blood_pressure</th>\n",
              "      <th>serum_cholestoral</th>\n",
              "      <th>maximum_heart_rate_achieved</th>\n",
              "      <th>oldpeak</th>\n",
              "      <th>number_of_major_vessels</th>\n",
              "      <th>class</th>\n",
              "    </tr>\n",
              "  </thead>\n",
              "  <tbody>\n",
              "    <tr>\n",
              "      <th>count</th>\n",
              "      <td>270.00</td>\n",
              "      <td>270.00</td>\n",
              "      <td>270.00</td>\n",
              "      <td>270.00</td>\n",
              "      <td>270.00</td>\n",
              "      <td>270.00</td>\n",
              "      <td>270.00</td>\n",
              "    </tr>\n",
              "    <tr>\n",
              "      <th>mean</th>\n",
              "      <td>54.43</td>\n",
              "      <td>131.34</td>\n",
              "      <td>249.66</td>\n",
              "      <td>149.68</td>\n",
              "      <td>1.05</td>\n",
              "      <td>0.67</td>\n",
              "      <td>0.44</td>\n",
              "    </tr>\n",
              "    <tr>\n",
              "      <th>std</th>\n",
              "      <td>9.11</td>\n",
              "      <td>17.86</td>\n",
              "      <td>51.69</td>\n",
              "      <td>23.17</td>\n",
              "      <td>1.15</td>\n",
              "      <td>0.94</td>\n",
              "      <td>0.50</td>\n",
              "    </tr>\n",
              "    <tr>\n",
              "      <th>min</th>\n",
              "      <td>29.00</td>\n",
              "      <td>94.00</td>\n",
              "      <td>126.00</td>\n",
              "      <td>71.00</td>\n",
              "      <td>0.00</td>\n",
              "      <td>0.00</td>\n",
              "      <td>0.00</td>\n",
              "    </tr>\n",
              "    <tr>\n",
              "      <th>25%</th>\n",
              "      <td>48.00</td>\n",
              "      <td>120.00</td>\n",
              "      <td>213.00</td>\n",
              "      <td>133.00</td>\n",
              "      <td>0.00</td>\n",
              "      <td>0.00</td>\n",
              "      <td>0.00</td>\n",
              "    </tr>\n",
              "    <tr>\n",
              "      <th>50%</th>\n",
              "      <td>55.00</td>\n",
              "      <td>130.00</td>\n",
              "      <td>245.00</td>\n",
              "      <td>153.50</td>\n",
              "      <td>0.80</td>\n",
              "      <td>0.00</td>\n",
              "      <td>0.00</td>\n",
              "    </tr>\n",
              "    <tr>\n",
              "      <th>75%</th>\n",
              "      <td>61.00</td>\n",
              "      <td>140.00</td>\n",
              "      <td>280.00</td>\n",
              "      <td>166.00</td>\n",
              "      <td>1.60</td>\n",
              "      <td>1.00</td>\n",
              "      <td>1.00</td>\n",
              "    </tr>\n",
              "    <tr>\n",
              "      <th>max</th>\n",
              "      <td>77.00</td>\n",
              "      <td>200.00</td>\n",
              "      <td>564.00</td>\n",
              "      <td>202.00</td>\n",
              "      <td>6.20</td>\n",
              "      <td>3.00</td>\n",
              "      <td>1.00</td>\n",
              "    </tr>\n",
              "  </tbody>\n",
              "</table>\n",
              "</div>"
            ],
            "text/plain": [
              "          age  resting_blood_pressure  ...  number_of_major_vessels   class\n",
              "count  270.00                  270.00  ...                   270.00  270.00\n",
              "mean    54.43                  131.34  ...                     0.67    0.44\n",
              "std      9.11                   17.86  ...                     0.94    0.50\n",
              "min     29.00                   94.00  ...                     0.00    0.00\n",
              "25%     48.00                  120.00  ...                     0.00    0.00\n",
              "50%     55.00                  130.00  ...                     0.00    0.00\n",
              "75%     61.00                  140.00  ...                     1.00    1.00\n",
              "max     77.00                  200.00  ...                     3.00    1.00\n",
              "\n",
              "[8 rows x 7 columns]"
            ]
          },
          "metadata": {
            "tags": []
          },
          "execution_count": 60
        }
      ]
    },
    {
      "cell_type": "code",
      "metadata": {
        "id": "IsAL6Py9kqIz",
        "colab_type": "code",
        "colab": {
          "base_uri": "https://localhost:8080/",
          "height": 173
        },
        "outputId": "57db0b84-f846-4980-8d9b-605f04cd4404"
      },
      "source": [
        "raw_data[categorical_features].describe()"
      ],
      "execution_count": null,
      "outputs": [
        {
          "output_type": "execute_result",
          "data": {
            "text/html": [
              "<div>\n",
              "<style scoped>\n",
              "    .dataframe tbody tr th:only-of-type {\n",
              "        vertical-align: middle;\n",
              "    }\n",
              "\n",
              "    .dataframe tbody tr th {\n",
              "        vertical-align: top;\n",
              "    }\n",
              "\n",
              "    .dataframe thead th {\n",
              "        text-align: right;\n",
              "    }\n",
              "</style>\n",
              "<table border=\"1\" class=\"dataframe\">\n",
              "  <thead>\n",
              "    <tr style=\"text-align: right;\">\n",
              "      <th></th>\n",
              "      <th>sex</th>\n",
              "      <th>chest</th>\n",
              "      <th>thal</th>\n",
              "      <th>fasting_blood_sugar</th>\n",
              "      <th>exercise_induced_angina</th>\n",
              "      <th>slope</th>\n",
              "      <th>resting_electrocardiographic_results</th>\n",
              "    </tr>\n",
              "  </thead>\n",
              "  <tbody>\n",
              "    <tr>\n",
              "      <th>count</th>\n",
              "      <td>270</td>\n",
              "      <td>270</td>\n",
              "      <td>270</td>\n",
              "      <td>270</td>\n",
              "      <td>270</td>\n",
              "      <td>270</td>\n",
              "      <td>270</td>\n",
              "    </tr>\n",
              "    <tr>\n",
              "      <th>unique</th>\n",
              "      <td>2</td>\n",
              "      <td>4</td>\n",
              "      <td>3</td>\n",
              "      <td>2</td>\n",
              "      <td>2</td>\n",
              "      <td>3</td>\n",
              "      <td>3</td>\n",
              "    </tr>\n",
              "    <tr>\n",
              "      <th>top</th>\n",
              "      <td>1</td>\n",
              "      <td>4</td>\n",
              "      <td>3</td>\n",
              "      <td>0</td>\n",
              "      <td>0</td>\n",
              "      <td>1</td>\n",
              "      <td>2</td>\n",
              "    </tr>\n",
              "    <tr>\n",
              "      <th>freq</th>\n",
              "      <td>183</td>\n",
              "      <td>129</td>\n",
              "      <td>152</td>\n",
              "      <td>230</td>\n",
              "      <td>181</td>\n",
              "      <td>130</td>\n",
              "      <td>137</td>\n",
              "    </tr>\n",
              "  </tbody>\n",
              "</table>\n",
              "</div>"
            ],
            "text/plain": [
              "        sex chest  ... slope resting_electrocardiographic_results\n",
              "count   270   270  ...   270                                  270\n",
              "unique    2     4  ...     3                                    3\n",
              "top       1     4  ...     1                                    2\n",
              "freq    183   129  ...   130                                  137\n",
              "\n",
              "[4 rows x 7 columns]"
            ]
          },
          "metadata": {
            "tags": []
          },
          "execution_count": 62
        }
      ]
    },
    {
      "cell_type": "code",
      "metadata": {
        "id": "BVnDDWx7kqGS",
        "colab_type": "code",
        "colab": {
          "base_uri": "https://localhost:8080/",
          "height": 697
        },
        "outputId": "a8c21c5c-07a8-44ca-fb87-b27c29b3dce4"
      },
      "source": [
        "for col in categorical_features:\n",
        "  print(raw_data.groupby(by=col).size().to_frame('count'))\n",
        "  print('-'*60)"
      ],
      "execution_count": null,
      "outputs": [
        {
          "output_type": "stream",
          "text": [
            "     count\n",
            "sex       \n",
            "0       87\n",
            "1      183\n",
            "------------------------------------------------------------\n",
            "       count\n",
            "chest       \n",
            "1         20\n",
            "2         42\n",
            "3         79\n",
            "4        129\n",
            "------------------------------------------------------------\n",
            "      count\n",
            "thal       \n",
            "3       152\n",
            "6        14\n",
            "7       104\n",
            "------------------------------------------------------------\n",
            "                     count\n",
            "fasting_blood_sugar       \n",
            "0                      230\n",
            "1                       40\n",
            "------------------------------------------------------------\n",
            "                         count\n",
            "exercise_induced_angina       \n",
            "0                          181\n",
            "1                           89\n",
            "------------------------------------------------------------\n",
            "       count\n",
            "slope       \n",
            "1        130\n",
            "2        122\n",
            "3         18\n",
            "------------------------------------------------------------\n",
            "                                      count\n",
            "resting_electrocardiographic_results       \n",
            "0                                       131\n",
            "1                                         2\n",
            "2                                       137\n",
            "------------------------------------------------------------\n"
          ],
          "name": "stdout"
        }
      ]
    },
    {
      "cell_type": "code",
      "metadata": {
        "id": "iORI6sNCkqDv",
        "colab_type": "code",
        "colab": {
          "base_uri": "https://localhost:8080/",
          "height": 266
        },
        "outputId": "9d5f1129-3c21-42bf-b6de-8eaa862f22b9"
      },
      "source": [
        "#Investigating the correlation between the attributes \n",
        "raw_data.corr()"
      ],
      "execution_count": null,
      "outputs": [
        {
          "output_type": "execute_result",
          "data": {
            "text/html": [
              "<div>\n",
              "<style scoped>\n",
              "    .dataframe tbody tr th:only-of-type {\n",
              "        vertical-align: middle;\n",
              "    }\n",
              "\n",
              "    .dataframe tbody tr th {\n",
              "        vertical-align: top;\n",
              "    }\n",
              "\n",
              "    .dataframe thead th {\n",
              "        text-align: right;\n",
              "    }\n",
              "</style>\n",
              "<table border=\"1\" class=\"dataframe\">\n",
              "  <thead>\n",
              "    <tr style=\"text-align: right;\">\n",
              "      <th></th>\n",
              "      <th>age</th>\n",
              "      <th>resting_blood_pressure</th>\n",
              "      <th>serum_cholestoral</th>\n",
              "      <th>maximum_heart_rate_achieved</th>\n",
              "      <th>oldpeak</th>\n",
              "      <th>number_of_major_vessels</th>\n",
              "      <th>class</th>\n",
              "    </tr>\n",
              "  </thead>\n",
              "  <tbody>\n",
              "    <tr>\n",
              "      <th>age</th>\n",
              "      <td>1.00</td>\n",
              "      <td>0.27</td>\n",
              "      <td>0.22</td>\n",
              "      <td>-0.40</td>\n",
              "      <td>0.19</td>\n",
              "      <td>0.36</td>\n",
              "      <td>0.21</td>\n",
              "    </tr>\n",
              "    <tr>\n",
              "      <th>resting_blood_pressure</th>\n",
              "      <td>0.27</td>\n",
              "      <td>1.00</td>\n",
              "      <td>0.17</td>\n",
              "      <td>-0.04</td>\n",
              "      <td>0.22</td>\n",
              "      <td>0.09</td>\n",
              "      <td>0.16</td>\n",
              "    </tr>\n",
              "    <tr>\n",
              "      <th>serum_cholestoral</th>\n",
              "      <td>0.22</td>\n",
              "      <td>0.17</td>\n",
              "      <td>1.00</td>\n",
              "      <td>-0.02</td>\n",
              "      <td>0.03</td>\n",
              "      <td>0.13</td>\n",
              "      <td>0.12</td>\n",
              "    </tr>\n",
              "    <tr>\n",
              "      <th>maximum_heart_rate_achieved</th>\n",
              "      <td>-0.40</td>\n",
              "      <td>-0.04</td>\n",
              "      <td>-0.02</td>\n",
              "      <td>1.00</td>\n",
              "      <td>-0.35</td>\n",
              "      <td>-0.27</td>\n",
              "      <td>-0.42</td>\n",
              "    </tr>\n",
              "    <tr>\n",
              "      <th>oldpeak</th>\n",
              "      <td>0.19</td>\n",
              "      <td>0.22</td>\n",
              "      <td>0.03</td>\n",
              "      <td>-0.35</td>\n",
              "      <td>1.00</td>\n",
              "      <td>0.26</td>\n",
              "      <td>0.42</td>\n",
              "    </tr>\n",
              "    <tr>\n",
              "      <th>number_of_major_vessels</th>\n",
              "      <td>0.36</td>\n",
              "      <td>0.09</td>\n",
              "      <td>0.13</td>\n",
              "      <td>-0.27</td>\n",
              "      <td>0.26</td>\n",
              "      <td>1.00</td>\n",
              "      <td>0.46</td>\n",
              "    </tr>\n",
              "    <tr>\n",
              "      <th>class</th>\n",
              "      <td>0.21</td>\n",
              "      <td>0.16</td>\n",
              "      <td>0.12</td>\n",
              "      <td>-0.42</td>\n",
              "      <td>0.42</td>\n",
              "      <td>0.46</td>\n",
              "      <td>1.00</td>\n",
              "    </tr>\n",
              "  </tbody>\n",
              "</table>\n",
              "</div>"
            ],
            "text/plain": [
              "                              age  ...  class\n",
              "age                          1.00  ...   0.21\n",
              "resting_blood_pressure       0.27  ...   0.16\n",
              "serum_cholestoral            0.22  ...   0.12\n",
              "maximum_heart_rate_achieved -0.40  ...  -0.42\n",
              "oldpeak                      0.19  ...   0.42\n",
              "number_of_major_vessels      0.36  ...   0.46\n",
              "class                        0.21  ...   1.00\n",
              "\n",
              "[7 rows x 7 columns]"
            ]
          },
          "metadata": {
            "tags": []
          },
          "execution_count": 69
        }
      ]
    },
    {
      "cell_type": "code",
      "metadata": {
        "id": "4N90WGnTkp1n",
        "colab_type": "code",
        "colab": {
          "base_uri": "https://localhost:8080/",
          "height": 85
        },
        "outputId": "35b4cb4d-f844-46c9-e371-265ce77af9cb"
      },
      "source": [
        "#Investigating the target variable\n",
        "print(raw_data.groupby('class').size().to_frame('count'))"
      ],
      "execution_count": null,
      "outputs": [
        {
          "output_type": "stream",
          "text": [
            "       count\n",
            "class       \n",
            "0        150\n",
            "1        120\n"
          ],
          "name": "stdout"
        }
      ]
    },
    {
      "cell_type": "code",
      "metadata": {
        "id": "7h42UNJ5zJn9",
        "colab_type": "code",
        "colab": {
          "base_uri": "https://localhost:8080/",
          "height": 697
        },
        "outputId": "e3cef9a2-7db3-4856-97df-a99ae3260f48"
      },
      "source": [
        "for col in categorical_features:\n",
        "  print(raw_data.groupby(col)['class'].mean())\n",
        "  print('-' * 60)"
      ],
      "execution_count": null,
      "outputs": [
        {
          "output_type": "stream",
          "text": [
            "sex\n",
            "0    0.23\n",
            "1    0.55\n",
            "Name: class, dtype: float64\n",
            "------------------------------------------------------------\n",
            "chest\n",
            "1    0.25\n",
            "2    0.17\n",
            "3    0.22\n",
            "4    0.71\n",
            "Name: class, dtype: float64\n",
            "------------------------------------------------------------\n",
            "thal\n",
            "3    0.22\n",
            "6    0.57\n",
            "7    0.76\n",
            "Name: class, dtype: float64\n",
            "------------------------------------------------------------\n",
            "fasting_blood_sugar\n",
            "0    0.45\n",
            "1    0.42\n",
            "Name: class, dtype: float64\n",
            "------------------------------------------------------------\n",
            "exercise_induced_angina\n",
            "0    0.30\n",
            "1    0.74\n",
            "Name: class, dtype: float64\n",
            "------------------------------------------------------------\n",
            "slope\n",
            "1    0.25\n",
            "2    0.64\n",
            "3    0.56\n",
            "Name: class, dtype: float64\n",
            "------------------------------------------------------------\n",
            "resting_electrocardiographic_results\n",
            "0    0.35\n",
            "1    0.50\n",
            "2    0.53\n",
            "Name: class, dtype: float64\n",
            "------------------------------------------------------------\n"
          ],
          "name": "stdout"
        }
      ]
    },
    {
      "cell_type": "code",
      "metadata": {
        "id": "CU6zOU7tzJlI",
        "colab_type": "code",
        "colab": {}
      },
      "source": [
        ""
      ],
      "execution_count": null,
      "outputs": []
    },
    {
      "cell_type": "code",
      "metadata": {
        "id": "ItveEho2zJhI",
        "colab_type": "code",
        "colab": {}
      },
      "source": [
        ""
      ],
      "execution_count": null,
      "outputs": []
    },
    {
      "cell_type": "markdown",
      "metadata": {
        "id": "2FUDfz_F04vC",
        "colab_type": "text"
      },
      "source": [
        "# b) Data visualizations\n"
      ]
    },
    {
      "cell_type": "code",
      "metadata": {
        "id": "50kw7emn1GpD",
        "colab_type": "code",
        "colab": {
          "base_uri": "https://localhost:8080/",
          "height": 1000
        },
        "outputId": "e52f8132-efff-4b76-a84f-72fd493e073c"
      },
      "source": [
        "#Histogram \n",
        "for col in numerical_features:\n",
        "  plt.hist(raw_data[col])\n",
        "  plt.xlabel(col)\n",
        "  plt.ylabel('Frequency')\n",
        "  plt.title('Histogram of ' + col)\n",
        "  plt.show()"
      ],
      "execution_count": null,
      "outputs": [
        {
          "output_type": "display_data",
          "data": {
            "image/png": "[encoded data removed]",
            "text/plain": [
              "<Figure size 432x288 with 1 Axes>"
            ]
          },
          "metadata": {
            "tags": []
          }
        },
        {
          "output_type": "display_data",
          "data": {
            "image/png": "[encoded data removed]",
            "text/plain": [
              "<Figure size 432x288 with 1 Axes>"
            ]
          },
          "metadata": {
            "tags": []
          }
        },
        {
          "output_type": "display_data",
          "data": {
            "image/png": "[encoded data removed]",
            "text/plain": [
              "<Figure size 432x288 with 1 Axes>"
            ]
          },
          "metadata": {
            "tags": []
          }
        },
        {
          "output_type": "display_data",
          "data": {
            "image/png": "[encoded data removed]",
            "text/plain": [
              "<Figure size 432x288 with 1 Axes>"
            ]
          },
          "metadata": {
            "tags": []
          }
        },
        {
          "output_type": "display_data",
          "data": {
            "image/png": "[encoded data removed]",
            "text/plain": [
              "<Figure size 432x288 with 1 Axes>"
            ]
          },
          "metadata": {
            "tags": []
          }
        },
        {
          "output_type": "display_data",
          "data": {
            "image/png": "[encoded data removed]",
            "text/plain": [
              "<Figure size 432x288 with 1 Axes>"
            ]
          },
          "metadata": {
            "tags": []
          }
        }
      ]
    },
    {
      "cell_type": "code",
      "metadata": {
        "id": "HOZJ6nvQ1Glc",
        "colab_type": "code",
        "colab": {
          "base_uri": "https://localhost:8080/",
          "height": 1000
        },
        "outputId": "1cda9879-e892-4568-f6b0-b84064731cd7"
      },
      "source": [
        "#Bar Chart\n",
        "for col in categorical_features:\n",
        "  values = list(raw_data[col])\n",
        "  x = raw_data[col].unique()\n",
        "  y = [values.count(k) for k in x]\n",
        "  plt.bar(x,y)\n",
        "  plt.xlabel(col)\n",
        "  plt.ylabel('Frequency')\n",
        "  plt.title('Bar chart of '+col)\n",
        "  plt.show()"
      ],
      "execution_count": null,
      "outputs": [
        {
          "output_type": "display_data",
          "data": {
            "image/png": "[encoded data removed]",
            "text/plain": [
              "<Figure size 432x288 with 1 Axes>"
            ]
          },
          "metadata": {
            "tags": []
          }
        },
        {
          "output_type": "display_data",
          "data": {
            "image/png": "[encoded data removed]",
            "text/plain": [
              "<Figure size 432x288 with 1 Axes>"
            ]
          },
          "metadata": {
            "tags": []
          }
        },
        {
          "output_type": "display_data",
          "data": {
            "image/png": "[encoded data removed]",
            "text/plain": [
              "<Figure size 432x288 with 1 Axes>"
            ]
          },
          "metadata": {
            "tags": []
          }
        },
        {
          "output_type": "display_data",
          "data": {
            "image/png": "[encoded data removed]",
            "text/plain": [
              "<Figure size 432x288 with 1 Axes>"
            ]
          },
          "metadata": {
            "tags": []
          }
        },
        {
          "output_type": "display_data",
          "data": {
            "image/png": "[encoded data removed]",
            "text/plain": [
              "<Figure size 432x288 with 1 Axes>"
            ]
          },
          "metadata": {
            "tags": []
          }
        },
        {
          "output_type": "display_data",
          "data": {
            "image/png": "[encoded data removed]",
            "text/plain": [
              "<Figure size 432x288 with 1 Axes>"
            ]
          },
          "metadata": {
            "tags": []
          }
        },
        {
          "output_type": "display_data",
          "data": {
            "image/png": "[encoded data removed]",
            "text/plain": [
              "<Figure size 432x288 with 1 Axes>"
            ]
          },
          "metadata": {
            "tags": []
          }
        }
      ]
    },
    {
      "cell_type": "code",
      "metadata": {
        "id": "UI1J66Wz1GiL",
        "colab_type": "code",
        "colab": {}
      },
      "source": [
        ""
      ],
      "execution_count": null,
      "outputs": []
    },
    {
      "cell_type": "code",
      "metadata": {
        "id": "wxHHy6CN1GfY",
        "colab_type": "code",
        "colab": {}
      },
      "source": [
        ""
      ],
      "execution_count": null,
      "outputs": []
    },
    {
      "cell_type": "code",
      "metadata": {
        "id": "U3xMfm9k1GdF",
        "colab_type": "code",
        "colab": {}
      },
      "source": [
        ""
      ],
      "execution_count": null,
      "outputs": []
    },
    {
      "cell_type": "code",
      "metadata": {
        "id": "Ky6zvqei1GaS",
        "colab_type": "code",
        "colab": {}
      },
      "source": [
        ""
      ],
      "execution_count": null,
      "outputs": []
    },
    {
      "cell_type": "code",
      "metadata": {
        "id": "XJUQDTvn1GX0",
        "colab_type": "code",
        "colab": {
          "base_uri": "https://localhost:8080/",
          "height": 88
        },
        "outputId": "dbc42e27-ee8f-4ffa-aa15-3fb9f164b623"
      },
      "source": [
        "from sklearn.ensemble import RandomForestClassifier\n",
        "from sklearn.model_selection import train_test_split\n",
        "from sklearn.model_selection import KFold\n",
        "from sklearn.model_selection import cross_val_score\n",
        "\n",
        "X = raw_data[categorical_features+numerical_features]\n",
        "y = raw_data['class']\n",
        "\n",
        "X_train,X_test,y_train,y_test = train_test_split(X,y,test_size = 0.2 ,random_state=0)\n",
        "RF = RandomForestClassifier()\n",
        "kfold = KFold(n_splits=5,random_state=0)\n",
        "score = cross_val_score(RF,X_train,y_train,cv=kfold)\n",
        "print(\"RandomForest      : %0.2f (+/- %0.2f)\" % (score.mean(), score.std() * 2))"
      ],
      "execution_count": null,
      "outputs": [
        {
          "output_type": "stream",
          "text": [
            "/usr/local/lib/python3.6/dist-packages/sklearn/model_selection/_split.py:296: FutureWarning: Setting a random_state has no effect since shuffle is False. This will raise an error in 0.24. You should leave random_state to its default (None), or set shuffle=True.\n",
            "  FutureWarning\n"
          ],
          "name": "stderr"
        },
        {
          "output_type": "stream",
          "text": [
            "RandomForest      : 0.83 (+/- 0.13)\n"
          ],
          "name": "stdout"
        }
      ]
    },
    {
      "cell_type": "code",
      "metadata": {
        "id": "bxqWtRgn1GUP",
        "colab_type": "code",
        "colab": {
          "base_uri": "https://localhost:8080/",
          "height": 34
        },
        "outputId": "fe4408b0-7eb6-4754-d5ca-8fb5b49173e5"
      },
      "source": [
        "RF.fit(X_train,y_train)\n",
        "prediction = RF.predict(X_test)\n",
        "print(RF.score(X_test,y_test))"
      ],
      "execution_count": null,
      "outputs": [
        {
          "output_type": "stream",
          "text": [
            "0.7777777777777778\n"
          ],
          "name": "stdout"
        }
      ]
    },
    {
      "cell_type": "code",
      "metadata": {
        "id": "T3a4CTxh1GGs",
        "colab_type": "code",
        "colab": {}
      },
      "source": [
        ""
      ],
      "execution_count": null,
      "outputs": []
    }
  ]
}